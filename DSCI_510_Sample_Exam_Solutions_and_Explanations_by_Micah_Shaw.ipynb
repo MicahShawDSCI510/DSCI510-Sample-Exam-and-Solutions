{
  "nbformat": 4,
  "nbformat_minor": 0,
  "metadata": {
    "colab": {
      "provenance": []
    },
    "kernelspec": {
      "name": "python3",
      "display_name": "Python 3"
    },
    "language_info": {
      "name": "python"
    }
  },
  "cells": [
    {
      "cell_type": "markdown",
      "source": [
        "DSCI Midterm Study Sample Exam With Solutions and Explanations.\n",
        "\n",
        "10/05/2024\n",
        "\n",
        "Micah Shaw\n",
        "DSCI510\n",
        "https://github.com/MicahShaw"
      ],
      "metadata": {
        "id": "0Pot3CMRz91g"
      }
    },
    {
      "cell_type": "markdown",
      "source": [
        "Question One:\n",
        "\n",
        "We are using Python version Three :)"
      ],
      "metadata": {
        "id": "VeTjbMvN52_y"
      }
    },
    {
      "cell_type": "markdown",
      "source": [
        "Question Two:\n",
        "\n",
        "Variable Naming Convention:\n",
        "\"\n",
        "Variable Names\n",
        "A variable can have a short name (like x and y) or a more descriptive name (age, carname, total_volume). Rules for Python variables:\n",
        "A variable name must start with a letter or the underscore character\n",
        "A variable name cannot start with a number\n",
        "A variable name can only contain alpha-numeric characters and underscores (A-z, 0-9, and _ )\n",
        "Variable names are case-sensitive (age, Age and AGE are three different variables)\n",
        "A variable name cannot be any of the Python keywords.\"\n",
        "\n"
      ],
      "metadata": {
        "id": "cl2j6M1Izley"
      }
    },
    {
      "cell_type": "markdown",
      "source": [
        "Code Test :)"
      ],
      "metadata": {
        "id": "-lixiTfIz8AG"
      }
    },
    {
      "cell_type": "code",
      "source": [
        "my_variable = None"
      ],
      "metadata": {
        "id": "btw34H0gzkVd"
      },
      "execution_count": 1,
      "outputs": []
    },
    {
      "cell_type": "code",
      "source": [
        "94my_var = None"
      ],
      "metadata": {
        "colab": {
          "base_uri": "https://localhost:8080/",
          "height": 106
        },
        "id": "Tha1nT-jzztz",
        "outputId": "fa12c01b-6449-4afa-b8ba-4d85c1ecb832"
      },
      "execution_count": 2,
      "outputs": [
        {
          "output_type": "error",
          "ename": "SyntaxError",
          "evalue": "invalid decimal literal (<ipython-input-2-c18f11ef830d>, line 1)",
          "traceback": [
            "\u001b[0;36m  File \u001b[0;32m\"<ipython-input-2-c18f11ef830d>\"\u001b[0;36m, line \u001b[0;32m1\u001b[0m\n\u001b[0;31m    94my_var = None\u001b[0m\n\u001b[0m     ^\u001b[0m\n\u001b[0;31mSyntaxError\u001b[0m\u001b[0;31m:\u001b[0m invalid decimal literal\n"
          ]
        }
      ]
    },
    {
      "cell_type": "code",
      "source": [
        "variableName = None"
      ],
      "metadata": {
        "id": "wIRq3QL7z2dY"
      },
      "execution_count": 3,
      "outputs": []
    },
    {
      "cell_type": "code",
      "source": [
        "n3w-v@r14bl3$ = None"
      ],
      "metadata": {
        "colab": {
          "base_uri": "https://localhost:8080/",
          "height": 106
        },
        "id": "l3g0KV_cz4BX",
        "outputId": "45dfca69-9409-47b9-a809-04c89ccddcd3"
      },
      "execution_count": 4,
      "outputs": [
        {
          "output_type": "error",
          "ename": "SyntaxError",
          "evalue": "invalid syntax (<ipython-input-4-5ffa0cb7eb82>, line 1)",
          "traceback": [
            "\u001b[0;36m  File \u001b[0;32m\"<ipython-input-4-5ffa0cb7eb82>\"\u001b[0;36m, line \u001b[0;32m1\u001b[0m\n\u001b[0;31m    n3w-v@r14bl3$ = None\u001b[0m\n\u001b[0m                ^\u001b[0m\n\u001b[0;31mSyntaxError\u001b[0m\u001b[0;31m:\u001b[0m invalid syntax\n"
          ]
        }
      ]
    },
    {
      "cell_type": "markdown",
      "source": [
        "Question Three"
      ],
      "metadata": {
        "id": "X7d8cTYz0Qc-"
      }
    },
    {
      "cell_type": "code",
      "source": [
        "print(type('59'))"
      ],
      "metadata": {
        "colab": {
          "base_uri": "https://localhost:8080/"
        },
        "id": "t-xSAHMC0SMX",
        "outputId": "fe44f456-e467-4f68-aaf3-e6277ff63b0d"
      },
      "execution_count": 5,
      "outputs": [
        {
          "output_type": "stream",
          "name": "stdout",
          "text": [
            "<class 'str'>\n"
          ]
        }
      ]
    },
    {
      "cell_type": "markdown",
      "source": [
        "Question Four"
      ],
      "metadata": {
        "id": "xCevFtlH0UQ1"
      }
    },
    {
      "cell_type": "code",
      "source": [
        "print(4+6*14-8)"
      ],
      "metadata": {
        "colab": {
          "base_uri": "https://localhost:8080/"
        },
        "id": "1fALmvU60VL3",
        "outputId": "9ebcb6a2-0441-420b-968d-8c9981e0caa8"
      },
      "execution_count": 6,
      "outputs": [
        {
          "output_type": "stream",
          "name": "stdout",
          "text": [
            "80\n"
          ]
        }
      ]
    },
    {
      "cell_type": "markdown",
      "source": [
        "Question Five: We use input() :)\n",
        "\n",
        "https://www.w3schools.com/python/ref_func_input.asp"
      ],
      "metadata": {
        "id": "uqSHAtqT0ZU-"
      }
    },
    {
      "cell_type": "markdown",
      "source": [
        "Question Six: Run each to see! :)"
      ],
      "metadata": {
        "id": "90NCGar40hL5"
      }
    },
    {
      "cell_type": "code",
      "source": [
        "let a = 5"
      ],
      "metadata": {
        "colab": {
          "base_uri": "https://localhost:8080/",
          "height": 106
        },
        "id": "ZCxRGj5F0jne",
        "outputId": "fe31fb93-7e35-434b-8cbb-f1821fc54990"
      },
      "execution_count": 7,
      "outputs": [
        {
          "output_type": "error",
          "ename": "SyntaxError",
          "evalue": "invalid syntax (<ipython-input-7-14ff290ae318>, line 1)",
          "traceback": [
            "\u001b[0;36m  File \u001b[0;32m\"<ipython-input-7-14ff290ae318>\"\u001b[0;36m, line \u001b[0;32m1\u001b[0m\n\u001b[0;31m    let a = 5\u001b[0m\n\u001b[0m        ^\u001b[0m\n\u001b[0;31mSyntaxError\u001b[0m\u001b[0;31m:\u001b[0m invalid syntax\n"
          ]
        }
      ]
    },
    {
      "cell_type": "code",
      "source": [
        "var b = 7"
      ],
      "metadata": {
        "colab": {
          "base_uri": "https://localhost:8080/",
          "height": 106
        },
        "id": "oWMMpquL0mG6",
        "outputId": "ff62c105-3efc-479e-8277-8d30f0e4f2c6"
      },
      "execution_count": 8,
      "outputs": [
        {
          "output_type": "error",
          "ename": "SyntaxError",
          "evalue": "invalid syntax (<ipython-input-8-aa55d33f4c0c>, line 1)",
          "traceback": [
            "\u001b[0;36m  File \u001b[0;32m\"<ipython-input-8-aa55d33f4c0c>\"\u001b[0;36m, line \u001b[0;32m1\u001b[0m\n\u001b[0;31m    var b = 7\u001b[0m\n\u001b[0m        ^\u001b[0m\n\u001b[0;31mSyntaxError\u001b[0m\u001b[0;31m:\u001b[0m invalid syntax\n"
          ]
        }
      ]
    },
    {
      "cell_type": "code",
      "source": [
        "a,b = 5,7"
      ],
      "metadata": {
        "id": "DdBEubo50nU4"
      },
      "execution_count": 9,
      "outputs": []
    },
    {
      "cell_type": "code",
      "source": [
        "b = 7"
      ],
      "metadata": {
        "id": "Nc96rkgh0oMq"
      },
      "execution_count": 10,
      "outputs": []
    },
    {
      "cell_type": "markdown",
      "source": [
        "Question Seven: Run each to see! :)"
      ],
      "metadata": {
        "id": "bLAnWCvG0sKh"
      }
    },
    {
      "cell_type": "code",
      "source": [
        "type(int(\"15\")) == int"
      ],
      "metadata": {
        "colab": {
          "base_uri": "https://localhost:8080/"
        },
        "id": "5Yg9Wa6p0tKJ",
        "outputId": "8f6ea016-081f-47ba-b8ef-51b09e0c0ed9"
      },
      "execution_count": 12,
      "outputs": [
        {
          "output_type": "execute_result",
          "data": {
            "text/plain": [
              "True"
            ]
          },
          "metadata": {},
          "execution_count": 12
        }
      ]
    },
    {
      "cell_type": "code",
      "source": [
        "type(str(\"15\")) == int"
      ],
      "metadata": {
        "colab": {
          "base_uri": "https://localhost:8080/"
        },
        "id": "WU8Vjsta0qr7",
        "outputId": "c2cd26fd-1e83-4f5b-f467-a560adc56192"
      },
      "execution_count": 13,
      "outputs": [
        {
          "output_type": "execute_result",
          "data": {
            "text/plain": [
              "False"
            ]
          },
          "metadata": {},
          "execution_count": 13
        }
      ]
    },
    {
      "cell_type": "code",
      "source": [
        "type(float(\"15\")) == float"
      ],
      "metadata": {
        "colab": {
          "base_uri": "https://localhost:8080/"
        },
        "id": "GEW7UJlP0fLa",
        "outputId": "5d809904-dbad-40be-8b27-4373754c0c2d"
      },
      "execution_count": 14,
      "outputs": [
        {
          "output_type": "execute_result",
          "data": {
            "text/plain": [
              "True"
            ]
          },
          "metadata": {},
          "execution_count": 14
        }
      ]
    },
    {
      "cell_type": "code",
      "source": [
        "type(number(\"15\")) == int"
      ],
      "metadata": {
        "colab": {
          "base_uri": "https://localhost:8080/",
          "height": 141
        },
        "id": "nVl6ej310XVN",
        "outputId": "b4e02416-6a24-4f49-fa1a-e305822cf582"
      },
      "execution_count": 15,
      "outputs": [
        {
          "output_type": "error",
          "ename": "NameError",
          "evalue": "name 'number' is not defined",
          "traceback": [
            "\u001b[0;31m---------------------------------------------------------------------------\u001b[0m",
            "\u001b[0;31mNameError\u001b[0m                                 Traceback (most recent call last)",
            "\u001b[0;32m<ipython-input-15-bea5d9045e3e>\u001b[0m in \u001b[0;36m<cell line: 1>\u001b[0;34m()\u001b[0m\n\u001b[0;32m----> 1\u001b[0;31m \u001b[0mtype\u001b[0m\u001b[0;34m(\u001b[0m\u001b[0mnumber\u001b[0m\u001b[0;34m(\u001b[0m\u001b[0;34m\"15\"\u001b[0m\u001b[0;34m)\u001b[0m\u001b[0;34m)\u001b[0m \u001b[0;34m==\u001b[0m \u001b[0mint\u001b[0m\u001b[0;34m\u001b[0m\u001b[0;34m\u001b[0m\u001b[0m\n\u001b[0m",
            "\u001b[0;31mNameError\u001b[0m: name 'number' is not defined"
          ]
        }
      ]
    },
    {
      "cell_type": "markdown",
      "source": [
        "Question Eight"
      ],
      "metadata": {
        "id": "YTQZ-N5w06BY"
      }
    },
    {
      "cell_type": "code",
      "source": [
        "x = \"this will be fun, dont you think\"\n",
        "print(x[-5::-1])"
      ],
      "metadata": {
        "colab": {
          "base_uri": "https://localhost:8080/"
        },
        "id": "GlCeJgNG05Fd",
        "outputId": "77ceaa8e-673c-4121-9a95-eea8a29b362e"
      },
      "execution_count": 192,
      "outputs": [
        {
          "output_type": "stream",
          "name": "stdout",
          "text": [
            "t uoy tnod ,nuf eb lliw siht\n"
          ]
        }
      ]
    },
    {
      "cell_type": "markdown",
      "source": [
        "Why does this work like this?\n",
        "\n",
        "\n",
        "We know that Slicing works like this:\n",
        "\n",
        "Lst[ Initial : End : IndexJump ]\n",
        "\n",
        "a_list[::3] means \" 'nothing for the first argument, nothing for the second, and jump by three'.\" https://stackoverflow.com/questions/3453085/what-is-double-colon-in-python-when-subscripting-sequences\n",
        "\n",
        "\n",
        "https://www.geeksforgeeks.org/python-list-slicing/\n",
        "\n",
        "Note that:\n",
        "Positive Indexes: 0, 1, 2, 3, 4, 5, 6\n",
        "Negative Indexes: -7, -6, -5, -4, -3, -2, -1 (each negative index corresponds to counting backwards from the end of the list)\n",
        "\n"
      ],
      "metadata": {
        "id": "zSeEyBwC1EXr"
      }
    },
    {
      "cell_type": "code",
      "source": [
        "#Therefore, what the above code is doing is start from index -5, do nothing for second argument and jump -1!\n",
        "\n",
        "print(x[-5]) #So we start from there! :)\n",
        "\n",
        "#End was not specified so ignore it!\n",
        "\n",
        "#Therefore, we start from index -5, which is 5 steps down from the end of the string, then we step down -1 each time.\n",
        "\n",
        "#Therefore giving us: t uoy tnod ,nuf eb lliw siht"
      ],
      "metadata": {
        "colab": {
          "base_uri": "https://localhost:8080/"
        },
        "id": "leKx-4Sl7kJx",
        "outputId": "c99913ec-82c9-4626-b8e7-f479bb785aa8"
      },
      "execution_count": 197,
      "outputs": [
        {
          "output_type": "stream",
          "name": "stdout",
          "text": [
            "t\n"
          ]
        }
      ]
    },
    {
      "cell_type": "markdown",
      "source": [
        "Question Nine\n"
      ],
      "metadata": {
        "id": "idH2GC1bTRlP"
      }
    },
    {
      "cell_type": "code",
      "source": [
        "print(len(set('abracadabra')))\n",
        "\n",
        "#The set will remove all duplicates! :)"
      ],
      "metadata": {
        "colab": {
          "base_uri": "https://localhost:8080/"
        },
        "id": "xn-FKn_GS5sH",
        "outputId": "fab8ccc4-96e8-4c6a-f4d2-c497c303d541"
      },
      "execution_count": 3,
      "outputs": [
        {
          "output_type": "stream",
          "name": "stdout",
          "text": [
            "5\n"
          ]
        }
      ]
    },
    {
      "cell_type": "markdown",
      "source": [
        "Question Ten"
      ],
      "metadata": {
        "id": "CIs31ZfuUGyU"
      }
    },
    {
      "cell_type": "code",
      "source": [
        "some_numbers = [x for x in range(0, 50, 3) if x % 13 == 1]"
      ],
      "metadata": {
        "id": "z3jvlAqrTXbQ"
      },
      "execution_count": 4,
      "outputs": []
    },
    {
      "cell_type": "markdown",
      "source": [
        "Let's print the range, which looks like this!\n",
        "\n",
        "range(start, stop, step)\n",
        "\n",
        "\n",
        "**start**\tOptional. An integer number specifying at which position to start. Default is 0\n",
        "\n",
        "**stop**\tRequired. An integer number specifying at which position to stop (not included).\n",
        "\n",
        "**step**\tOptional. An integer number specifying the incrementation. Default is 1"
      ],
      "metadata": {
        "id": "vHM4JAu7Tj7f"
      }
    },
    {
      "cell_type": "code",
      "source": [
        "#Let's display :), as we can see the start is zero indexed.\n",
        "\n",
        "#Remember that 50 here is not inclued!!\n",
        "\n",
        "for i in enumerate(range(0, 50, 3)):\n",
        "  print(i)"
      ],
      "metadata": {
        "colab": {
          "base_uri": "https://localhost:8080/"
        },
        "id": "Xk1waHmgThcY",
        "outputId": "36f40d7e-d3e8-4c0d-ed8d-1f3c7cf16abb"
      },
      "execution_count": 198,
      "outputs": [
        {
          "output_type": "stream",
          "name": "stdout",
          "text": [
            "(0, 0)\n",
            "(1, 3)\n",
            "(2, 6)\n",
            "(3, 9)\n",
            "(4, 12)\n",
            "(5, 15)\n",
            "(6, 18)\n",
            "(7, 21)\n",
            "(8, 24)\n",
            "(9, 27)\n",
            "(10, 30)\n",
            "(11, 33)\n",
            "(12, 36)\n",
            "(13, 39)\n",
            "(14, 42)\n",
            "(15, 45)\n",
            "(16, 48)\n"
          ]
        }
      ]
    },
    {
      "cell_type": "markdown",
      "source": [
        "Question Eleven\n",
        "\n",
        "We use  **def** :)\n",
        "\n",
        "\n",
        "\n",
        "\"The let keyword is used when declaring a block of code that should be reusable throughout our program. For example: let myName = 'Aniket';\"\n",
        "\n",
        "\"A Python Constant is a variable whose value cannot be changed throughout the program.\"\n",
        "\n"
      ],
      "metadata": {
        "id": "9Zn6mCqTUDir"
      }
    },
    {
      "cell_type": "markdown",
      "source": [
        "Question Twelve\n",
        "\n",
        "Run Each to see if they exist in Python :)"
      ],
      "metadata": {
        "id": "6-rthm0kUNbN"
      }
    },
    {
      "cell_type": "code",
      "source": [
        "print(callable(len))"
      ],
      "metadata": {
        "colab": {
          "base_uri": "https://localhost:8080/"
        },
        "id": "hru6zw3cT5F9",
        "outputId": "3e3db20d-e262-4904-b7b7-5b28c99a9e05"
      },
      "execution_count": 7,
      "outputs": [
        {
          "output_type": "stream",
          "name": "stdout",
          "text": [
            "True\n"
          ]
        }
      ]
    },
    {
      "cell_type": "code",
      "source": [
        "print(callable(avg))"
      ],
      "metadata": {
        "colab": {
          "base_uri": "https://localhost:8080/",
          "height": 141
        },
        "id": "DbfSV6cPUWUe",
        "outputId": "6a2d7104-9778-4510-81d4-4f0de2bfbbdd"
      },
      "execution_count": 8,
      "outputs": [
        {
          "output_type": "error",
          "ename": "NameError",
          "evalue": "name 'avg' is not defined",
          "traceback": [
            "\u001b[0;31m---------------------------------------------------------------------------\u001b[0m",
            "\u001b[0;31mNameError\u001b[0m                                 Traceback (most recent call last)",
            "\u001b[0;32m<ipython-input-8-3e19d92907a0>\u001b[0m in \u001b[0;36m<cell line: 1>\u001b[0;34m()\u001b[0m\n\u001b[0;32m----> 1\u001b[0;31m \u001b[0mprint\u001b[0m\u001b[0;34m(\u001b[0m\u001b[0mcallable\u001b[0m\u001b[0;34m(\u001b[0m\u001b[0mavg\u001b[0m\u001b[0;34m)\u001b[0m\u001b[0;34m)\u001b[0m\u001b[0;34m\u001b[0m\u001b[0;34m\u001b[0m\u001b[0m\n\u001b[0m",
            "\u001b[0;31mNameError\u001b[0m: name 'avg' is not defined"
          ]
        }
      ]
    },
    {
      "cell_type": "code",
      "source": [
        "print(callable(min))"
      ],
      "metadata": {
        "id": "pZGKKa8NUYI-"
      },
      "execution_count": null,
      "outputs": []
    },
    {
      "cell_type": "code",
      "source": [
        "print(callable(max))"
      ],
      "metadata": {
        "colab": {
          "base_uri": "https://localhost:8080/"
        },
        "id": "wjRTBlnsUamS",
        "outputId": "83321b89-8025-4400-ed06-3d217f573d0a"
      },
      "execution_count": 9,
      "outputs": [
        {
          "output_type": "stream",
          "name": "stdout",
          "text": [
            "True\n"
          ]
        }
      ]
    },
    {
      "cell_type": "markdown",
      "source": [
        "Question Thirteen\n",
        "\n",
        "I added some print statements so we can see the output! :)"
      ],
      "metadata": {
        "id": "GI_Ybg7hUhH0"
      }
    },
    {
      "cell_type": "code",
      "source": [
        "sum = 0\n",
        "count = 0\n",
        "\n",
        "#While True is an infinite loop, it always runs unless broken out of!\n",
        "while True:\n",
        "  user_input = input('> Enter a number: ')\n",
        "  user_input = float(user_input)\n",
        "  #This checks if the entered number divided by seven gives remainder three!\n",
        "\n",
        "  if user_input // 7 == 3:\n",
        "    print(f\"Remainder of {user_input} divided by seven is three!\", end = \"\\n\")\n",
        "\n",
        "    #Note: that 3.0 == 3 :) in Python we can equate floats and integers sometimes.\n",
        "\n",
        "    #Break leaves the loop!\n",
        "    break\n",
        "\n",
        "  #We append user_input to sum and incremenet count by one!\n",
        "  sum += user_input\n",
        "  count += 1\n",
        "  print(\"sum is \", sum, \" count is \", count)\n",
        "  #Continue ends the current iteration of a loop and goes to the next one!\n",
        "  continue\n",
        "print(f' Average of the numbers entereed so far is: {sum / count}')\n"
      ],
      "metadata": {
        "colab": {
          "base_uri": "https://localhost:8080/"
        },
        "id": "0bctP99kUbet",
        "outputId": "4845469b-e558-48fc-bdf5-50ba99a7cbab"
      },
      "execution_count": 10,
      "outputs": [
        {
          "output_type": "stream",
          "name": "stdout",
          "text": [
            "> Enter a number: 4\n",
            "sum is  4.0  count is  1\n",
            "> Enter a number: 3\n",
            "sum is  7.0  count is  2\n",
            "> Enter a number: 6\n",
            "sum is  13.0  count is  3\n",
            "> Enter a number: 12\n",
            "sum is  25.0  count is  4\n",
            "> Enter a number: 23\n",
            "Remainder of 23.0 divided by seven is three!\n",
            " Average of the numbers entereed so far is: 6.25\n"
          ]
        }
      ]
    },
    {
      "cell_type": "markdown",
      "source": [
        "Question Fourteen w/ my solution :)"
      ],
      "metadata": {
        "id": "V1lp3uhkWRwg"
      }
    },
    {
      "cell_type": "code",
      "source": [
        "def convert_temperature():\n",
        "  \"\"\"\n",
        "  This function asks the user to enter a temperature\n",
        "  Converts that temperature from Fahrenheit to Celsius\n",
        "  And prints both temperatures in Fahrenheit and Celsiuis\n",
        "  \"\"\"\n",
        "  f_temp = _____(\"Enter temperature in Fahrenheit\")\n",
        "\n",
        "  try:\n",
        "    f_temp = float(f_temp)\n",
        "    c_temp = (f_temp - 32.0) * 5.0 / 9.0\n",
        "    ______ ('Fahrenheit:', f_temp, 'Celsius:', c_temp)\n",
        "\n",
        "  _____:\n",
        "    print(\"Please enter a number!\")"
      ],
      "metadata": {
        "id": "KnFpTvvpVlvL"
      },
      "execution_count": null,
      "outputs": []
    },
    {
      "cell_type": "code",
      "source": [
        "#My solution! :)\n",
        "def convert_temperature():\n",
        "  \"\"\"\n",
        "  This function asks the user to enter a temperature\n",
        "  Converts that temperature from Fahrenheit to Celsius\n",
        "  And prints both temperatures in Fahrenheit and Celsiuis\n",
        "  \"\"\"\n",
        "  f_temp = input(\"Enter temperature in Fahrenheit\")\n",
        "\n",
        "  try:\n",
        "    f_temp = float(f_temp)\n",
        "    c_temp = (f_temp - 32.0) * 5.0 / 9.0\n",
        "    print('Fahrenheit:', f_temp, 'Celsius:', c_temp)\n",
        "  except:\n",
        "    print(\"Please enter a number!\")\n",
        "convert_temperature()"
      ],
      "metadata": {
        "colab": {
          "base_uri": "https://localhost:8080/"
        },
        "id": "wFcsxPKnW0Jg",
        "outputId": "385d55a6-3641-478c-b0c9-5d4ed32bf8b5"
      },
      "execution_count": 201,
      "outputs": [
        {
          "output_type": "stream",
          "name": "stdout",
          "text": [
            "Enter temperature in Fahrenheit85\n",
            "Fahrenheit: 85.0 Celsius: 29.444444444444443\n"
          ]
        }
      ]
    },
    {
      "cell_type": "markdown",
      "source": [
        "Question Fifteen\n",
        "\n",
        "Try this out!\n",
        "\n",
        "\"If you create a variable with the same name inside a function, this variable will be local, and can only be used inside the function. The global variable with the same name will remain as it was, global and with the original value.\"\n"
      ],
      "metadata": {
        "id": "D80EyoJwXEhl"
      }
    },
    {
      "cell_type": "code",
      "source": [
        "x = \"fantastic\"\n",
        "\n",
        "def my_func(y):\n",
        "  global x\n",
        "  x = y\n",
        "  print(\"(inside) Python is \" + x)\n",
        "\n",
        "my_func(\"awesome\")\n",
        "print(\"Python is \" + x)"
      ],
      "metadata": {
        "colab": {
          "base_uri": "https://localhost:8080/"
        },
        "id": "9Bh7MNayXJbl",
        "outputId": "f9079148-c46b-4c48-8067-5183087512f0"
      },
      "execution_count": 17,
      "outputs": [
        {
          "output_type": "stream",
          "name": "stdout",
          "text": [
            "(inside) Python is awesome\n",
            "Python is awesome\n"
          ]
        }
      ]
    },
    {
      "cell_type": "markdown",
      "source": [
        "Question Sixteen: My Solution :)"
      ],
      "metadata": {
        "id": "4QuIPoexXvuy"
      }
    },
    {
      "cell_type": "code",
      "source": [
        "#I use a list comprehension, which gives all numbers in the range that %2 == 0 :)\n",
        "end_number = 10\n",
        "[add for add in range(0, end_number) if add % 2 == 0]"
      ],
      "metadata": {
        "colab": {
          "base_uri": "https://localhost:8080/"
        },
        "id": "ozGZytw4W2TI",
        "outputId": "cfe5e303-3439-45c5-e542-3ec353ca7fe7"
      },
      "execution_count": 202,
      "outputs": [
        {
          "output_type": "execute_result",
          "data": {
            "text/plain": [
              "[0, 2, 4, 6, 8]"
            ]
          },
          "metadata": {},
          "execution_count": 202
        }
      ]
    },
    {
      "cell_type": "code",
      "source": [
        "import numpy as np\n",
        "#Then I just sum it! Using the list sum function!\n",
        "np.sum([add for add in range(0, end_number) if add % 2 == 0])"
      ],
      "metadata": {
        "colab": {
          "base_uri": "https://localhost:8080/"
        },
        "id": "W38IfKlaYMEb",
        "outputId": "4fb7e7c5-6686-4064-b2ab-1719f19c854a"
      },
      "execution_count": 203,
      "outputs": [
        {
          "output_type": "execute_result",
          "data": {
            "text/plain": [
              "20"
            ]
          },
          "metadata": {},
          "execution_count": 203
        }
      ]
    },
    {
      "cell_type": "markdown",
      "source": [
        "Question Seventeen: My Solution :)"
      ],
      "metadata": {
        "id": "c8AXQSgtZgyD"
      }
    },
    {
      "cell_type": "code",
      "source": [
        "def invert_dict(input_dict: dict) -> dict:\n",
        "  return {value : key for (key, value) in input_dict.items()}"
      ],
      "metadata": {
        "id": "p1A_zPspZeNq"
      },
      "execution_count": 43,
      "outputs": []
    },
    {
      "cell_type": "markdown",
      "source": [
        "Remember that:\n",
        "\n",
        "\"dict.items() : Returns a view object that displays a list of key-value pairs (tuples) in the dictionary.\"\n",
        "\n",
        "\"dict.values() : Returns a view object that displays a list of all the values in the dictionary.\"\n",
        "\n",
        "\"dict.keys() : Returns a view object that displays a list of all the keys in the dictionary.\""
      ],
      "metadata": {
        "id": "g_sH0TXVZ6rk"
      }
    },
    {
      "cell_type": "code",
      "source": [
        "#So input_dict.items returns that key, value pairs as tuples!:\n",
        "#So what this is doing is setting the key value pair actually to value : key! Which reverses each key pair tuple in the .items() :)!\n",
        "invert_dict({1:'a'})"
      ],
      "metadata": {
        "colab": {
          "base_uri": "https://localhost:8080/"
        },
        "id": "c2517aBqZQTb",
        "outputId": "b32d62a3-197e-418b-847b-ec81aa2153ae"
      },
      "execution_count": 44,
      "outputs": [
        {
          "output_type": "execute_result",
          "data": {
            "text/plain": [
              "{'a': 1}"
            ]
          },
          "metadata": {},
          "execution_count": 44
        }
      ]
    },
    {
      "cell_type": "markdown",
      "source": [
        "Question Eighteen\n",
        "\n",
        "![1679695596993.png](data:image/png;base64,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)"
      ],
      "metadata": {
        "id": "T8gu6CPobroU"
      }
    },
    {
      "cell_type": "markdown",
      "source": [
        "Question Ninteen"
      ],
      "metadata": {
        "id": "_jt8EkPIb38M"
      }
    },
    {
      "cell_type": "code",
      "source": [
        "def reverse_substring(text: str):\n",
        "  print(\"First Slice:\", text[7:12])\n",
        "  #First Slice gets from SEVEN to END, note the end slice exceeds the length of the string, so it will just print the rest of the string!\n",
        "  print(\"Second Slice:\", text[::-1])\n",
        "  #Second Slice Reverses the string! Remeber we are stepping down using -1.\n",
        "  print(\"Final Slice:\", text[7:12][::-1])\n",
        "  #This slice then is taking the first slice subsection and then reversing it! :)\n",
        "  text_to_return = text[7:12][::-1]\n",
        "  return text_to_return\n",
        "\n",
        "print(reverse_substring(\"Hello World\"))"
      ],
      "metadata": {
        "colab": {
          "base_uri": "https://localhost:8080/"
        },
        "id": "amtOLp_chelI",
        "outputId": "357f39ca-2ee8-4795-e863-7f2e1cc62157"
      },
      "execution_count": 204,
      "outputs": [
        {
          "output_type": "stream",
          "name": "stdout",
          "text": [
            "First Slice: orld\n",
            "Second Slice: dlroW olleH\n",
            "Final Slice: dlro\n",
            "dlro\n"
          ]
        }
      ]
    },
    {
      "cell_type": "markdown",
      "source": [
        "Question Twenty"
      ],
      "metadata": {
        "id": "FhQ_y-ReihOj"
      }
    },
    {
      "cell_type": "code",
      "source": [
        "string = \"Hello to DSCI 510 Midterm\"\n",
        "string[:5] = \"Aloha\"\n",
        "print(string)"
      ],
      "metadata": {
        "colab": {
          "base_uri": "https://localhost:8080/",
          "height": 176
        },
        "id": "m-2dojA4ifyn",
        "outputId": "b3c81c21-c38a-4f59-c9e5-2425c4bd578e"
      },
      "execution_count": 205,
      "outputs": [
        {
          "output_type": "error",
          "ename": "TypeError",
          "evalue": "'str' object does not support item assignment",
          "traceback": [
            "\u001b[0;31m---------------------------------------------------------------------------\u001b[0m",
            "\u001b[0;31mTypeError\u001b[0m                                 Traceback (most recent call last)",
            "\u001b[0;32m<ipython-input-205-ffba8b25f85d>\u001b[0m in \u001b[0;36m<cell line: 2>\u001b[0;34m()\u001b[0m\n\u001b[1;32m      1\u001b[0m \u001b[0mstring\u001b[0m \u001b[0;34m=\u001b[0m \u001b[0;34m\"Hello to DSCI 510 Midterm\"\u001b[0m\u001b[0;34m\u001b[0m\u001b[0;34m\u001b[0m\u001b[0m\n\u001b[0;32m----> 2\u001b[0;31m \u001b[0mstring\u001b[0m\u001b[0;34m[\u001b[0m\u001b[0;34m:\u001b[0m\u001b[0;36m5\u001b[0m\u001b[0;34m]\u001b[0m \u001b[0;34m=\u001b[0m \u001b[0;34m\"Aloha\"\u001b[0m\u001b[0;34m\u001b[0m\u001b[0;34m\u001b[0m\u001b[0m\n\u001b[0m\u001b[1;32m      3\u001b[0m \u001b[0mprint\u001b[0m\u001b[0;34m(\u001b[0m\u001b[0mstring\u001b[0m\u001b[0;34m)\u001b[0m\u001b[0;34m\u001b[0m\u001b[0;34m\u001b[0m\u001b[0m\n",
            "\u001b[0;31mTypeError\u001b[0m: 'str' object does not support item assignment"
          ]
        }
      ]
    },
    {
      "cell_type": "markdown",
      "source": [
        "Remeber that Strings are IMMUTABLE! If you want to do this you need to create a whole new string! :)"
      ],
      "metadata": {
        "id": "_71wPsOAiu9k"
      }
    },
    {
      "cell_type": "markdown",
      "source": [
        "Question Twenty-One: My Solution :)"
      ],
      "metadata": {
        "id": "ZfEhaUuPjFoY"
      }
    },
    {
      "cell_type": "code",
      "source": [
        "def is_vowel(character):\n",
        "  return character == \"A\" or character == \"a\" or character == \"E\" or character == \"e\" or character == \"I\" or character == \"i\" or character == \"O\" or character == \"o\" or character == \"U\" or character == \"u\"\n",
        "def replace_vowels(input_string: str) -> str:\n",
        "  new_string = \"\"\n",
        "  for elem in input_string:\n",
        "    if(is_vowel(elem)):\n",
        "      new_string+=\"x\"\n",
        "    else:\n",
        "      new_string+=elem\n",
        "  return new_string"
      ],
      "metadata": {
        "id": "zn9YT264jIDu"
      },
      "execution_count": 63,
      "outputs": []
    },
    {
      "cell_type": "code",
      "source": [
        "print(replace_vowels(\"AaEeIiOoUu\"))"
      ],
      "metadata": {
        "colab": {
          "base_uri": "https://localhost:8080/"
        },
        "id": "E6BDSSilkS8C",
        "outputId": "3f862a46-66f7-48c3-d785-d71d5538c976"
      },
      "execution_count": 64,
      "outputs": [
        {
          "output_type": "stream",
          "name": "stdout",
          "text": [
            "xxxxxxxxxx\n"
          ]
        }
      ]
    },
    {
      "cell_type": "markdown",
      "source": [
        "Question Twenty-Two, Run each to see :)!"
      ],
      "metadata": {
        "id": "FCh57rIAkv-j"
      }
    },
    {
      "cell_type": "code",
      "source": [
        "john_smith = \"John\" + \"Smith\"\n",
        "print(john_smith)"
      ],
      "metadata": {
        "colab": {
          "base_uri": "https://localhost:8080/"
        },
        "id": "jTULax6HkYuU",
        "outputId": "6f154712-fec7-4995-ebb8-3c650906e3af"
      },
      "execution_count": 65,
      "outputs": [
        {
          "output_type": "stream",
          "name": "stdout",
          "text": [
            "JohnSmith\n"
          ]
        }
      ]
    },
    {
      "cell_type": "code",
      "source": [
        "john_smith = \"John\".concat(\"Smith\")"
      ],
      "metadata": {
        "colab": {
          "base_uri": "https://localhost:8080/",
          "height": 158
        },
        "id": "yu3nwbawk4mu",
        "outputId": "336e66a4-ab54-4870-92ba-ff56638ccbbe"
      },
      "execution_count": 66,
      "outputs": [
        {
          "output_type": "error",
          "ename": "AttributeError",
          "evalue": "'str' object has no attribute 'concat'",
          "traceback": [
            "\u001b[0;31m---------------------------------------------------------------------------\u001b[0m",
            "\u001b[0;31mAttributeError\u001b[0m                            Traceback (most recent call last)",
            "\u001b[0;32m<ipython-input-66-525cbeec006f>\u001b[0m in \u001b[0;36m<cell line: 1>\u001b[0;34m()\u001b[0m\n\u001b[0;32m----> 1\u001b[0;31m \u001b[0mjohn_smith\u001b[0m \u001b[0;34m=\u001b[0m \u001b[0;34m\"John\"\u001b[0m\u001b[0;34m.\u001b[0m\u001b[0mconcat\u001b[0m\u001b[0;34m(\u001b[0m\u001b[0;34m\"Smith\"\u001b[0m\u001b[0;34m)\u001b[0m\u001b[0;34m\u001b[0m\u001b[0;34m\u001b[0m\u001b[0m\n\u001b[0m\u001b[1;32m      2\u001b[0m \u001b[0mprint\u001b[0m\u001b[0;34m(\u001b[0m\u001b[0mjohn_smith\u001b[0m\u001b[0;34m)\u001b[0m\u001b[0;34m\u001b[0m\u001b[0;34m\u001b[0m\u001b[0m\n",
            "\u001b[0;31mAttributeError\u001b[0m: 'str' object has no attribute 'concat'"
          ]
        }
      ]
    },
    {
      "cell_type": "code",
      "source": [
        "#Join will technically quasi-\"add\" strings, but according to the definition:\n",
        "\"The join() method takes all items in an iterable and joins them into one string.\"\n",
        "#So, it is not necessarily the preferred way to add strings, so I assume this answer is false.\n",
        "john_smith = \"John\".join(\"Smith\")\n",
        "print(john_smith)"
      ],
      "metadata": {
        "colab": {
          "base_uri": "https://localhost:8080/"
        },
        "id": "nJJPrZKek9MW",
        "outputId": "d472e2ea-1ddf-4308-cb6a-20eafa998da2"
      },
      "execution_count": 206,
      "outputs": [
        {
          "output_type": "stream",
          "name": "stdout",
          "text": [
            "SJohnmJohniJohntJohnh\n"
          ]
        }
      ]
    },
    {
      "cell_type": "code",
      "source": [
        "john_smith = \"John\".append(\"Smith\")\n",
        "print(john_smith)"
      ],
      "metadata": {
        "colab": {
          "base_uri": "https://localhost:8080/",
          "height": 158
        },
        "id": "6jrpSJX4k7fO",
        "outputId": "c47147f9-aeb2-4fb9-b9f0-dc1556c35007"
      },
      "execution_count": 73,
      "outputs": [
        {
          "output_type": "error",
          "ename": "AttributeError",
          "evalue": "'str' object has no attribute 'append'",
          "traceback": [
            "\u001b[0;31m---------------------------------------------------------------------------\u001b[0m",
            "\u001b[0;31mAttributeError\u001b[0m                            Traceback (most recent call last)",
            "\u001b[0;32m<ipython-input-73-fc75ca23fd0e>\u001b[0m in \u001b[0;36m<cell line: 1>\u001b[0;34m()\u001b[0m\n\u001b[0;32m----> 1\u001b[0;31m \u001b[0mjohn_smith\u001b[0m \u001b[0;34m=\u001b[0m \u001b[0;34m\"John\"\u001b[0m\u001b[0;34m.\u001b[0m\u001b[0mappend\u001b[0m\u001b[0;34m(\u001b[0m\u001b[0;34m\"Smith\"\u001b[0m\u001b[0;34m)\u001b[0m\u001b[0;34m\u001b[0m\u001b[0;34m\u001b[0m\u001b[0m\n\u001b[0m\u001b[1;32m      2\u001b[0m \u001b[0mprint\u001b[0m\u001b[0;34m(\u001b[0m\u001b[0mjohn_smith\u001b[0m\u001b[0;34m)\u001b[0m\u001b[0;34m\u001b[0m\u001b[0;34m\u001b[0m\u001b[0m\n",
            "\u001b[0;31mAttributeError\u001b[0m: 'str' object has no attribute 'append'"
          ]
        }
      ]
    },
    {
      "cell_type": "markdown",
      "source": [
        "Question Twenty-Three\n",
        "\n",
        "\n",
        "\n",
        "    with open('myfile.txt', 'r') as f:\n",
        "\n",
        "    contents = f.read()\n",
        "\n",
        "So, yes you can use with to open also...\n",
        "\n",
        "Reagrding the *with* statement, the \"file will automatically be closed when the with block finishes execution, even if exceptions were raised inside the block.\""
      ],
      "metadata": {
        "id": "y-nG6MK7liPe"
      }
    },
    {
      "cell_type": "markdown",
      "source": [
        "Question Twenty Four: Run each to see if valid mode! No worries, you do not need to have \"myfile.txt\" :)"
      ],
      "metadata": {
        "id": "4ijdpEzUmEqZ"
      }
    },
    {
      "cell_type": "markdown",
      "source": [
        "![0_CZMzQqblpb9It2IS.png](data:image/png;base64,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)"
      ],
      "metadata": {
        "id": "f6Rieu1zmghS"
      }
    },
    {
      "cell_type": "code",
      "source": [
        "with open('myfile.txt', 'r') as f:\n",
        "    pass"
      ],
      "metadata": {
        "id": "baf2rzVpme9Z"
      },
      "execution_count": 207,
      "outputs": []
    },
    {
      "cell_type": "code",
      "source": [
        "with open('myfile.txt', 's') as f:\n",
        "    pass"
      ],
      "metadata": {
        "colab": {
          "base_uri": "https://localhost:8080/",
          "height": 158
        },
        "id": "A2npna51lHDH",
        "outputId": "ba2e2c51-68e4-45d2-bfdd-9f2cbc3bc86f"
      },
      "execution_count": 208,
      "outputs": [
        {
          "output_type": "error",
          "ename": "ValueError",
          "evalue": "invalid mode: 's'",
          "traceback": [
            "\u001b[0;31m---------------------------------------------------------------------------\u001b[0m",
            "\u001b[0;31mValueError\u001b[0m                                Traceback (most recent call last)",
            "\u001b[0;32m<ipython-input-208-202a78b25c90>\u001b[0m in \u001b[0;36m<cell line: 1>\u001b[0;34m()\u001b[0m\n\u001b[0;32m----> 1\u001b[0;31m \u001b[0;32mwith\u001b[0m \u001b[0mopen\u001b[0m\u001b[0;34m(\u001b[0m\u001b[0;34m'myfile.txt'\u001b[0m\u001b[0;34m,\u001b[0m \u001b[0;34m's'\u001b[0m\u001b[0;34m)\u001b[0m \u001b[0;32mas\u001b[0m \u001b[0mf\u001b[0m\u001b[0;34m:\u001b[0m\u001b[0;34m\u001b[0m\u001b[0;34m\u001b[0m\u001b[0m\n\u001b[0m\u001b[1;32m      2\u001b[0m     \u001b[0;32mpass\u001b[0m\u001b[0;34m\u001b[0m\u001b[0;34m\u001b[0m\u001b[0m\n",
            "\u001b[0;31mValueError\u001b[0m: invalid mode: 's'"
          ]
        }
      ]
    },
    {
      "cell_type": "code",
      "source": [
        "with open('myfile.txt', 'w') as f:\n",
        "    pass"
      ],
      "metadata": {
        "id": "Fy8k65sxmH5s"
      },
      "execution_count": 209,
      "outputs": []
    },
    {
      "cell_type": "code",
      "source": [
        "with open('myfile.txt', 'd') as f:\n",
        "    pass"
      ],
      "metadata": {
        "colab": {
          "base_uri": "https://localhost:8080/",
          "height": 158
        },
        "id": "ZNCOnm67mPzf",
        "outputId": "1a9cc497-bb8e-47e3-e929-b1570ed2b31b"
      },
      "execution_count": 210,
      "outputs": [
        {
          "output_type": "error",
          "ename": "ValueError",
          "evalue": "invalid mode: 'd'",
          "traceback": [
            "\u001b[0;31m---------------------------------------------------------------------------\u001b[0m",
            "\u001b[0;31mValueError\u001b[0m                                Traceback (most recent call last)",
            "\u001b[0;32m<ipython-input-210-b98fc524666a>\u001b[0m in \u001b[0;36m<cell line: 1>\u001b[0;34m()\u001b[0m\n\u001b[0;32m----> 1\u001b[0;31m \u001b[0;32mwith\u001b[0m \u001b[0mopen\u001b[0m\u001b[0;34m(\u001b[0m\u001b[0;34m'myfile.txt'\u001b[0m\u001b[0;34m,\u001b[0m \u001b[0;34m'd'\u001b[0m\u001b[0;34m)\u001b[0m \u001b[0;32mas\u001b[0m \u001b[0mf\u001b[0m\u001b[0;34m:\u001b[0m\u001b[0;34m\u001b[0m\u001b[0;34m\u001b[0m\u001b[0m\n\u001b[0m\u001b[1;32m      2\u001b[0m     \u001b[0;32mpass\u001b[0m\u001b[0;34m\u001b[0m\u001b[0;34m\u001b[0m\u001b[0m\n",
            "\u001b[0;31mValueError\u001b[0m: invalid mode: 'd'"
          ]
        }
      ]
    },
    {
      "cell_type": "markdown",
      "source": [
        "Question Twenty-Five\n",
        "\n",
        "**A**: \"When the file is opened in append mode in Python, the handle is positioned at the end of the file. The data being written will be inserted at the end, after the existing data. \"\n"
      ],
      "metadata": {
        "id": "Oa0Ngr65mkfu"
      }
    },
    {
      "cell_type": "markdown",
      "source": [
        "Question Twenty-Six\n",
        "\n",
        "The x mode is described above in the image! **False**"
      ],
      "metadata": {
        "id": "Frap3HvNm2E9"
      }
    },
    {
      "cell_type": "markdown",
      "source": [
        "Question Twenty-Seven"
      ],
      "metadata": {
        "id": "5ErhRL7InBxb"
      }
    },
    {
      "cell_type": "code",
      "source": [
        "numbers = [0, 4, 76, 23, 8, 10, 16, 47, 38, 60]\n",
        "print(numbers[1:8:2])\n",
        "print(numbers[0:8:2])\n",
        "#Why does the following one work too? Remember that \"slice method always excludes the element at the final index specified\"\n",
        "print(numbers[1:9:2])\n",
        "print(numbers[0:9:2])\n",
        "#An extra one to see that the end slice, if you are zero-indexing does not go to 9, so a trick I like is counting the end slice one-indexed. :)\n",
        "print(numbers[1:9])"
      ],
      "metadata": {
        "colab": {
          "base_uri": "https://localhost:8080/"
        },
        "id": "428W716snEAT",
        "outputId": "f4e19717-1d4a-49e8-b550-beeee28f9986"
      },
      "execution_count": 212,
      "outputs": [
        {
          "output_type": "stream",
          "name": "stdout",
          "text": [
            "[4, 23, 10, 47]\n",
            "[0, 76, 8, 16]\n",
            "[4, 23, 10, 47]\n",
            "[0, 76, 8, 16, 38]\n",
            "[4, 76, 23, 8, 10, 16, 47, 38]\n"
          ]
        }
      ]
    },
    {
      "cell_type": "markdown",
      "source": [
        "Question Twenty-Eight: My Solution :)\n"
      ],
      "metadata": {
        "id": "BPbv7Q6ooLSX"
      }
    },
    {
      "cell_type": "code",
      "source": [
        "numbers = [1,2,3,4,5,6,7,8,9,10]\n",
        "sum = 0\n",
        "for num in numbers:\n",
        "  #I use modulus to check divisiblity!\n",
        "  if num %2 == 0 or num %3 == 0:\n",
        "    print(f\"Num is {num}\")\n",
        "    sum+=num\n",
        "    print(f\"Incremented sum is {sum}\")\n",
        "print(sum)"
      ],
      "metadata": {
        "colab": {
          "base_uri": "https://localhost:8080/"
        },
        "id": "Luv3AmLXoKyQ",
        "outputId": "9d789953-cfbe-41dd-efab-1ed4cdacfbf2"
      },
      "execution_count": 213,
      "outputs": [
        {
          "output_type": "stream",
          "name": "stdout",
          "text": [
            "Num is 2\n",
            "Incremented sum is 2\n",
            "Num is 3\n",
            "Incremented sum is 5\n",
            "Num is 4\n",
            "Incremented sum is 9\n",
            "Num is 6\n",
            "Incremented sum is 15\n",
            "Num is 8\n",
            "Incremented sum is 23\n",
            "Num is 9\n",
            "Incremented sum is 32\n",
            "Num is 10\n",
            "Incremented sum is 42\n",
            "42\n"
          ]
        }
      ]
    },
    {
      "cell_type": "markdown",
      "source": [
        "Question Twenty-Nine: Run each to see! :)"
      ],
      "metadata": {
        "id": "xV0eemCtorUV"
      }
    },
    {
      "cell_type": "code",
      "source": [
        "my_list = [1, 2, 3, 4]\n",
        "my_list.append(5)"
      ],
      "metadata": {
        "id": "JruCjJygmRIc"
      },
      "execution_count": 92,
      "outputs": []
    },
    {
      "cell_type": "code",
      "source": [
        "my_list = [1, 2, 3, 4]\n",
        "#Insert requires an index, you can use length of your list as that index to add it to the end :)\n",
        "my_list.insert(len(my_list), 5)\n",
        "my_list"
      ],
      "metadata": {
        "colab": {
          "base_uri": "https://localhost:8080/"
        },
        "id": "9GgaTHpamabf",
        "outputId": "3c3448ef-1f17-40b5-ec8c-cd2076d2bc07"
      },
      "execution_count": 98,
      "outputs": [
        {
          "output_type": "execute_result",
          "data": {
            "text/plain": [
              "[1, 2, 3, 4, 5]"
            ]
          },
          "metadata": {},
          "execution_count": 98
        }
      ]
    },
    {
      "cell_type": "code",
      "source": [
        "my_list = [1, 2, 3, 4]\n",
        "my_list.extend(5)"
      ],
      "metadata": {
        "colab": {
          "base_uri": "https://localhost:8080/",
          "height": 158
        },
        "id": "y-yHAXpio0_Q",
        "outputId": "db11cf42-edd4-4aa9-d7fb-184c2b97e652"
      },
      "execution_count": 99,
      "outputs": [
        {
          "output_type": "error",
          "ename": "TypeError",
          "evalue": "'int' object is not iterable",
          "traceback": [
            "\u001b[0;31m---------------------------------------------------------------------------\u001b[0m",
            "\u001b[0;31mTypeError\u001b[0m                                 Traceback (most recent call last)",
            "\u001b[0;32m<ipython-input-99-3d52b77339fb>\u001b[0m in \u001b[0;36m<cell line: 2>\u001b[0;34m()\u001b[0m\n\u001b[1;32m      1\u001b[0m \u001b[0mmy_list\u001b[0m \u001b[0;34m=\u001b[0m \u001b[0;34m[\u001b[0m\u001b[0;36m1\u001b[0m\u001b[0;34m,\u001b[0m \u001b[0;36m2\u001b[0m\u001b[0;34m,\u001b[0m \u001b[0;36m3\u001b[0m\u001b[0;34m,\u001b[0m \u001b[0;36m4\u001b[0m\u001b[0;34m]\u001b[0m\u001b[0;34m\u001b[0m\u001b[0;34m\u001b[0m\u001b[0m\n\u001b[0;32m----> 2\u001b[0;31m \u001b[0mmy_list\u001b[0m\u001b[0;34m.\u001b[0m\u001b[0mextend\u001b[0m\u001b[0;34m(\u001b[0m\u001b[0;36m5\u001b[0m\u001b[0;34m)\u001b[0m\u001b[0;34m\u001b[0m\u001b[0;34m\u001b[0m\u001b[0m\n\u001b[0m",
            "\u001b[0;31mTypeError\u001b[0m: 'int' object is not iterable"
          ]
        }
      ]
    },
    {
      "cell_type": "code",
      "source": [
        "my_list.add(4)"
      ],
      "metadata": {
        "colab": {
          "base_uri": "https://localhost:8080/",
          "height": 141
        },
        "id": "SZeXNlhqqy2g",
        "outputId": "42dac2cc-6783-4ef4-ae53-615986f53936"
      },
      "execution_count": 100,
      "outputs": [
        {
          "output_type": "error",
          "ename": "AttributeError",
          "evalue": "'list' object has no attribute 'add'",
          "traceback": [
            "\u001b[0;31m---------------------------------------------------------------------------\u001b[0m",
            "\u001b[0;31mAttributeError\u001b[0m                            Traceback (most recent call last)",
            "\u001b[0;32m<ipython-input-100-57de45e7ca03>\u001b[0m in \u001b[0;36m<cell line: 1>\u001b[0;34m()\u001b[0m\n\u001b[0;32m----> 1\u001b[0;31m \u001b[0mmy_list\u001b[0m\u001b[0;34m.\u001b[0m\u001b[0madd\u001b[0m\u001b[0;34m(\u001b[0m\u001b[0;36m4\u001b[0m\u001b[0;34m)\u001b[0m\u001b[0;34m\u001b[0m\u001b[0;34m\u001b[0m\u001b[0m\n\u001b[0m",
            "\u001b[0;31mAttributeError\u001b[0m: 'list' object has no attribute 'add'"
          ]
        }
      ]
    },
    {
      "cell_type": "markdown",
      "source": [
        "Question Thirty"
      ],
      "metadata": {
        "id": "ouAjE2hcq5vQ"
      }
    },
    {
      "cell_type": "code",
      "source": [
        "my_list = [1, 2, 3]\n",
        "new_list = my_list + [4,5]\n",
        "print(new_list)"
      ],
      "metadata": {
        "colab": {
          "base_uri": "https://localhost:8080/"
        },
        "id": "wje4d5c1q1Ue",
        "outputId": "4b0914b6-bb70-45c3-b3e4-62f92dfbf87b"
      },
      "execution_count": 101,
      "outputs": [
        {
          "output_type": "stream",
          "name": "stdout",
          "text": [
            "[1, 2, 3, 4, 5]\n"
          ]
        }
      ]
    },
    {
      "cell_type": "markdown",
      "source": [
        "Question Thirty-One, run each to check! :)"
      ],
      "metadata": {
        "id": "B1uDjS6orBkV"
      }
    },
    {
      "cell_type": "code",
      "source": [
        "fruits = [\"apple\", \"banana\", \"mango\", \"orange\"]\n",
        "fruits.remove(\"banana\")\n",
        "fruits"
      ],
      "metadata": {
        "colab": {
          "base_uri": "https://localhost:8080/"
        },
        "id": "nnHd0ufcrDVz",
        "outputId": "0ca4e481-10b3-464a-8445-33c822fba618"
      },
      "execution_count": 102,
      "outputs": [
        {
          "output_type": "execute_result",
          "data": {
            "text/plain": [
              "['apple', 'mango', 'orange']"
            ]
          },
          "metadata": {},
          "execution_count": 102
        }
      ]
    },
    {
      "cell_type": "code",
      "source": [
        "fruits = [\"apple\", \"banana\", \"mango\", \"orange\"]\n",
        "fruits.pop(1)\n",
        "fruits"
      ],
      "metadata": {
        "colab": {
          "base_uri": "https://localhost:8080/"
        },
        "id": "Do71abazq_Zo",
        "outputId": "57f1d9a5-1e6e-49c0-b5e6-602f27329828"
      },
      "execution_count": 103,
      "outputs": [
        {
          "output_type": "execute_result",
          "data": {
            "text/plain": [
              "['apple', 'mango', 'orange']"
            ]
          },
          "metadata": {},
          "execution_count": 103
        }
      ]
    },
    {
      "cell_type": "code",
      "source": [
        "fruits = [\"apple\", \"banana\", \"mango\", \"orange\"]\n",
        "fruits.remove(\"Banana\")\n",
        "fruits"
      ],
      "metadata": {
        "colab": {
          "base_uri": "https://localhost:8080/",
          "height": 176
        },
        "id": "dWKu4D4UrNz0",
        "outputId": "f31a9bb6-313a-4ca6-f304-a42cf992465a"
      },
      "execution_count": 104,
      "outputs": [
        {
          "output_type": "error",
          "ename": "ValueError",
          "evalue": "list.remove(x): x not in list",
          "traceback": [
            "\u001b[0;31m---------------------------------------------------------------------------\u001b[0m",
            "\u001b[0;31mValueError\u001b[0m                                Traceback (most recent call last)",
            "\u001b[0;32m<ipython-input-104-261df370ad0f>\u001b[0m in \u001b[0;36m<cell line: 2>\u001b[0;34m()\u001b[0m\n\u001b[1;32m      1\u001b[0m \u001b[0mfruits\u001b[0m \u001b[0;34m=\u001b[0m \u001b[0;34m[\u001b[0m\u001b[0;34m\"apple\"\u001b[0m\u001b[0;34m,\u001b[0m \u001b[0;34m\"banana\"\u001b[0m\u001b[0;34m,\u001b[0m \u001b[0;34m\"mango\"\u001b[0m\u001b[0;34m,\u001b[0m \u001b[0;34m\"orange\"\u001b[0m\u001b[0;34m]\u001b[0m\u001b[0;34m\u001b[0m\u001b[0;34m\u001b[0m\u001b[0m\n\u001b[0;32m----> 2\u001b[0;31m \u001b[0mfruits\u001b[0m\u001b[0;34m.\u001b[0m\u001b[0mremove\u001b[0m\u001b[0;34m(\u001b[0m\u001b[0;34m\"Banana\"\u001b[0m\u001b[0;34m)\u001b[0m\u001b[0;34m\u001b[0m\u001b[0;34m\u001b[0m\u001b[0m\n\u001b[0m\u001b[1;32m      3\u001b[0m \u001b[0mfruits\u001b[0m\u001b[0;34m\u001b[0m\u001b[0;34m\u001b[0m\u001b[0m\n",
            "\u001b[0;31mValueError\u001b[0m: list.remove(x): x not in list"
          ]
        }
      ]
    },
    {
      "cell_type": "code",
      "source": [
        "fruits = [\"apple\", \"banana\", \"mango\", \"orange\"]\n",
        "fruits.clear()\n",
        "fruits"
      ],
      "metadata": {
        "colab": {
          "base_uri": "https://localhost:8080/"
        },
        "id": "XGnrZbsMrPe-",
        "outputId": "4d7b9b45-a61a-463d-8522-98eece0aa472"
      },
      "execution_count": 106,
      "outputs": [
        {
          "output_type": "execute_result",
          "data": {
            "text/plain": [
              "[]"
            ]
          },
          "metadata": {},
          "execution_count": 106
        }
      ]
    },
    {
      "cell_type": "markdown",
      "source": [
        "Question Thirty-Two: My Solution :)"
      ],
      "metadata": {
        "id": "j49ftvvorXyJ"
      }
    },
    {
      "cell_type": "code",
      "source": [
        "my_list = [[1, 2, 3], [4, 5, 6], [7, 8, 9]]\n",
        "#[2] gets the third list, then [1] accesses the second element. Remember this is zero-indexed! :)\n",
        "element = my_list[2][1]\n",
        "print(element)"
      ],
      "metadata": {
        "colab": {
          "base_uri": "https://localhost:8080/"
        },
        "id": "w-RmdXMarRYM",
        "outputId": "aef9d8bb-b5c2-4261-91ae-e7f2382bfd8f"
      },
      "execution_count": 108,
      "outputs": [
        {
          "output_type": "stream",
          "name": "stdout",
          "text": [
            "8\n"
          ]
        }
      ]
    },
    {
      "cell_type": "markdown",
      "source": [
        "Question Thirty-Three\n",
        "\n",
        "a: True: \"A dictionary in Python is a collection of key-value pairs, where each key is unique and maps to a corresponding value.\"\n",
        "\n",
        "b: True: \"In Python, dictionaries are written with curly brackets { } , and store key-value pairs.\"\n",
        "\n",
        "c: False: \"However, a key can not be a mutable data type, for example, a list.\"\n",
        "\n",
        "d: False: \"Since Python 3.6, regular dictionaries have kept their items in the same order that they were inserted into the underlying dictionary.\""
      ],
      "metadata": {
        "id": "aheJ8vqXrmgk"
      }
    },
    {
      "cell_type": "markdown",
      "source": [
        "Question Thirty-Four: Run each to see!"
      ],
      "metadata": {
        "id": "jZYZfaSssGbR"
      }
    },
    {
      "cell_type": "code",
      "source": [
        "my_dict = {\"John\": 45}"
      ],
      "metadata": {
        "id": "NPDteBUxrf1l"
      },
      "execution_count": 109,
      "outputs": []
    },
    {
      "cell_type": "code",
      "source": [
        "my_dict = {(1, 2): 45}"
      ],
      "metadata": {
        "id": "G0p0YSDxsP4O"
      },
      "execution_count": 110,
      "outputs": []
    },
    {
      "cell_type": "code",
      "source": [
        "my_dict = {[1, 2, 3]: 45}"
      ],
      "metadata": {
        "colab": {
          "base_uri": "https://localhost:8080/",
          "height": 141
        },
        "id": "TB0M4ipasTss",
        "outputId": "7f274ed3-a62e-4c5f-8c6c-f45fea91d3e4"
      },
      "execution_count": 111,
      "outputs": [
        {
          "output_type": "error",
          "ename": "TypeError",
          "evalue": "unhashable type: 'list'",
          "traceback": [
            "\u001b[0;31m---------------------------------------------------------------------------\u001b[0m",
            "\u001b[0;31mTypeError\u001b[0m                                 Traceback (most recent call last)",
            "\u001b[0;32m<ipython-input-111-e8017e3fc20f>\u001b[0m in \u001b[0;36m<cell line: 1>\u001b[0;34m()\u001b[0m\n\u001b[0;32m----> 1\u001b[0;31m \u001b[0mmy_dict\u001b[0m \u001b[0;34m=\u001b[0m \u001b[0;34m{\u001b[0m\u001b[0;34m[\u001b[0m\u001b[0;36m1\u001b[0m\u001b[0;34m,\u001b[0m \u001b[0;36m2\u001b[0m\u001b[0;34m,\u001b[0m \u001b[0;36m3\u001b[0m\u001b[0;34m]\u001b[0m\u001b[0;34m:\u001b[0m \u001b[0;36m45\u001b[0m\u001b[0;34m}\u001b[0m\u001b[0;34m\u001b[0m\u001b[0;34m\u001b[0m\u001b[0m\n\u001b[0m",
            "\u001b[0;31mTypeError\u001b[0m: unhashable type: 'list'"
          ]
        }
      ]
    },
    {
      "cell_type": "code",
      "source": [
        "my_dict = {1: 45}"
      ],
      "metadata": {
        "id": "vskWDCoGsUw3"
      },
      "execution_count": 112,
      "outputs": []
    },
    {
      "cell_type": "markdown",
      "source": [
        "Question Thirty-Five\n",
        "\n",
        "**C**: \"The items() method returns a view object. The view object contains the key-value pairs of the dictionary, as tuples in a list.\""
      ],
      "metadata": {
        "id": "4w9y__aksXwh"
      }
    },
    {
      "cell_type": "markdown",
      "source": [
        "Question Thirty-Six Run to see :)"
      ],
      "metadata": {
        "id": "VARS_lWnsfCW"
      }
    },
    {
      "cell_type": "code",
      "source": [
        "dict = {\"name\": \"John\", \"age\": 25}\n",
        "dict.get(\"address\", \"Not Found\")"
      ],
      "metadata": {
        "colab": {
          "base_uri": "https://localhost:8080/",
          "height": 35
        },
        "id": "oFY1YkDzsWWD",
        "outputId": "bdd15c57-73c5-4797-e509-6e868ae06e74"
      },
      "execution_count": 113,
      "outputs": [
        {
          "output_type": "execute_result",
          "data": {
            "text/plain": [
              "'Not Found'"
            ],
            "application/vnd.google.colaboratory.intrinsic+json": {
              "type": "string"
            }
          },
          "metadata": {},
          "execution_count": 113
        }
      ]
    },
    {
      "cell_type": "markdown",
      "source": [
        "Question Thirty-Seven\n",
        "\n",
        "a: False: \" In Python, tuples are immutable, meaning that once a tuple is created, its contents cannot be changed.\"\n",
        "\n",
        "b: True: (\"John\", 45) works.\n",
        "\n",
        "c: False: \"thistuple = (\"apple\", \"banana\", \"cherry\")\" also \"thistuple = tuple((\"apple\", \"banana\", \"cherry\"))\"\n",
        "\n",
        "d: False: \"Tuple is a collection which is ordered and unchangeable.\""
      ],
      "metadata": {
        "id": "toXrDdwEtDOV"
      }
    },
    {
      "cell_type": "markdown",
      "source": [
        "Question Thirty-Eight Run each to see :)"
      ],
      "metadata": {
        "id": "VKts1tfRtiD0"
      }
    },
    {
      "cell_type": "code",
      "source": [
        "t = (1)\n",
        "print(type(t))"
      ],
      "metadata": {
        "colab": {
          "base_uri": "https://localhost:8080/"
        },
        "id": "Zl0ux34Ftk45",
        "outputId": "ce10939a-4719-40c2-93c5-d42f7e90b6ca"
      },
      "execution_count": 115,
      "outputs": [
        {
          "output_type": "stream",
          "name": "stdout",
          "text": [
            "<class 'int'>\n"
          ]
        }
      ]
    },
    {
      "cell_type": "markdown",
      "source": [
        "Q"
      ],
      "metadata": {
        "id": "r0fFknDlseF0"
      }
    },
    {
      "cell_type": "code",
      "source": [
        "t = 1,\n",
        "print(type(t))"
      ],
      "metadata": {
        "colab": {
          "base_uri": "https://localhost:8080/"
        },
        "id": "Ht1vgtdBtoxd",
        "outputId": "0f353408-3782-4407-9c14-aa2fdb9c11ce"
      },
      "execution_count": 116,
      "outputs": [
        {
          "output_type": "stream",
          "name": "stdout",
          "text": [
            "<class 'tuple'>\n"
          ]
        }
      ]
    },
    {
      "cell_type": "code",
      "source": [
        "t = (1,)\n",
        "print(type(t))"
      ],
      "metadata": {
        "colab": {
          "base_uri": "https://localhost:8080/"
        },
        "id": "lgwi2TpituRW",
        "outputId": "da4fe3ac-d0ef-46e1-db06-14034b9c46c2"
      },
      "execution_count": 117,
      "outputs": [
        {
          "output_type": "stream",
          "name": "stdout",
          "text": [
            "<class 'tuple'>\n"
          ]
        }
      ]
    },
    {
      "cell_type": "code",
      "source": [
        "t = tuple([1])\n",
        "print(type(t))"
      ],
      "metadata": {
        "colab": {
          "base_uri": "https://localhost:8080/"
        },
        "id": "n_KTmEIYtv6T",
        "outputId": "ec3e77eb-dd60-4abc-f17e-197c6cf4f36c"
      },
      "execution_count": 118,
      "outputs": [
        {
          "output_type": "stream",
          "name": "stdout",
          "text": [
            "<class 'tuple'>\n"
          ]
        }
      ]
    },
    {
      "cell_type": "markdown",
      "source": [
        "Question Thirty-Nine, run to see :)"
      ],
      "metadata": {
        "id": "Q58rgRketyeR"
      }
    },
    {
      "cell_type": "code",
      "source": [
        "a = (1,3)+ (\"John\", \"Smith\")\n",
        "print(type(a))\n",
        "print(a)\n",
        "#B"
      ],
      "metadata": {
        "colab": {
          "base_uri": "https://localhost:8080/"
        },
        "id": "4wcJrTLyt2pm",
        "outputId": "3f014e20-bd3b-46dd-c229-f4a7df01e1ef"
      },
      "execution_count": 123,
      "outputs": [
        {
          "output_type": "stream",
          "name": "stdout",
          "text": [
            "<class 'tuple'>\n",
            "(1, 3, 'John', 'Smith')\n"
          ]
        }
      ]
    },
    {
      "cell_type": "markdown",
      "source": [
        "Question Forty"
      ],
      "metadata": {
        "id": "P9OOwelUuG0m"
      }
    },
    {
      "cell_type": "code",
      "source": [
        "my_dict = {(1,3): \"John\"}"
      ],
      "metadata": {
        "id": "97Fwt8Ogt6VE"
      },
      "execution_count": 124,
      "outputs": []
    },
    {
      "cell_type": "code",
      "source": [
        "my_dict = {[1,3]: \"John\"}\n",
        "#Must be immutable!"
      ],
      "metadata": {
        "colab": {
          "base_uri": "https://localhost:8080/",
          "height": 141
        },
        "id": "b6MlVRLduLJS",
        "outputId": "72c8e3ab-65c1-4667-82b8-fd3b1903d24b"
      },
      "execution_count": 125,
      "outputs": [
        {
          "output_type": "error",
          "ename": "TypeError",
          "evalue": "unhashable type: 'list'",
          "traceback": [
            "\u001b[0;31m---------------------------------------------------------------------------\u001b[0m",
            "\u001b[0;31mTypeError\u001b[0m                                 Traceback (most recent call last)",
            "\u001b[0;32m<ipython-input-125-b8a428883f98>\u001b[0m in \u001b[0;36m<cell line: 1>\u001b[0;34m()\u001b[0m\n\u001b[0;32m----> 1\u001b[0;31m \u001b[0mmy_dict\u001b[0m \u001b[0;34m=\u001b[0m \u001b[0;34m{\u001b[0m\u001b[0;34m[\u001b[0m\u001b[0;36m1\u001b[0m\u001b[0;34m,\u001b[0m\u001b[0;36m3\u001b[0m\u001b[0;34m]\u001b[0m\u001b[0;34m:\u001b[0m \u001b[0;34m\"John\"\u001b[0m\u001b[0;34m}\u001b[0m\u001b[0;34m\u001b[0m\u001b[0;34m\u001b[0m\u001b[0m\n\u001b[0m",
            "\u001b[0;31mTypeError\u001b[0m: unhashable type: 'list'"
          ]
        }
      ]
    },
    {
      "cell_type": "markdown",
      "source": [
        "Question Forty-One run to see :)"
      ],
      "metadata": {
        "id": "Bbjp3A3wuUiZ"
      }
    },
    {
      "cell_type": "code",
      "source": [
        "my_list = [1,3]"
      ],
      "metadata": {
        "id": "H_eLA4TBuNV2"
      },
      "execution_count": null,
      "outputs": []
    },
    {
      "cell_type": "code",
      "source": [
        "my_tuple = tuple(my_list)\n",
        "type(my_tuple)"
      ],
      "metadata": {
        "colab": {
          "base_uri": "https://localhost:8080/"
        },
        "id": "NVUxYw5FuXzr",
        "outputId": "8ac4ec2f-fb09-45d4-c298-ee450141fd6f"
      },
      "execution_count": 127,
      "outputs": [
        {
          "output_type": "execute_result",
          "data": {
            "text/plain": [
              "tuple"
            ]
          },
          "metadata": {},
          "execution_count": 127
        }
      ]
    },
    {
      "cell_type": "code",
      "source": [
        "my_tuple = tuple(x for x in my_list)\n",
        "type(my_tuple)"
      ],
      "metadata": {
        "colab": {
          "base_uri": "https://localhost:8080/"
        },
        "id": "XYiudkv9uY76",
        "outputId": "fb4f1cd5-c9f8-47de-c2b1-6cad55774a1b"
      },
      "execution_count": 128,
      "outputs": [
        {
          "output_type": "execute_result",
          "data": {
            "text/plain": [
              "tuple"
            ]
          },
          "metadata": {},
          "execution_count": 128
        }
      ]
    },
    {
      "cell_type": "code",
      "source": [
        "my_tuple = convert_to_tuple(my_list)\n",
        "type(my_tuple)"
      ],
      "metadata": {
        "colab": {
          "base_uri": "https://localhost:8080/",
          "height": 158
        },
        "id": "VpfqDtYEudyz",
        "outputId": "8cd371e7-eacb-4cfd-9ce2-7c85e427037f"
      },
      "execution_count": 129,
      "outputs": [
        {
          "output_type": "error",
          "ename": "NameError",
          "evalue": "name 'convert_to_tuple' is not defined",
          "traceback": [
            "\u001b[0;31m---------------------------------------------------------------------------\u001b[0m",
            "\u001b[0;31mNameError\u001b[0m                                 Traceback (most recent call last)",
            "\u001b[0;32m<ipython-input-129-9ee7341f9bfe>\u001b[0m in \u001b[0;36m<cell line: 1>\u001b[0;34m()\u001b[0m\n\u001b[0;32m----> 1\u001b[0;31m \u001b[0mmy_tuple\u001b[0m \u001b[0;34m=\u001b[0m \u001b[0mconvert_to_tuple\u001b[0m\u001b[0;34m(\u001b[0m\u001b[0mmy_list\u001b[0m\u001b[0;34m)\u001b[0m\u001b[0;34m\u001b[0m\u001b[0;34m\u001b[0m\u001b[0m\n\u001b[0m\u001b[1;32m      2\u001b[0m \u001b[0mtype\u001b[0m\u001b[0;34m(\u001b[0m\u001b[0mmy_tuple\u001b[0m\u001b[0;34m)\u001b[0m\u001b[0;34m\u001b[0m\u001b[0;34m\u001b[0m\u001b[0m\n",
            "\u001b[0;31mNameError\u001b[0m: name 'convert_to_tuple' is not defined"
          ]
        }
      ]
    },
    {
      "cell_type": "markdown",
      "source": [
        "Question Forty-Two: Run to see!"
      ],
      "metadata": {
        "id": "UZ2kYoQIujrY"
      }
    },
    {
      "cell_type": "code",
      "source": [
        "my_tuple = (1, 2, 3)\n",
        "new_tuple = my_tuple*2\n",
        "#This will just repeat the tuple and return a new tuple.\n",
        "print(new_tuple)"
      ],
      "metadata": {
        "colab": {
          "base_uri": "https://localhost:8080/"
        },
        "id": "jgA2C3FMulgu",
        "outputId": "ba85b204-a200-4cc2-cffd-9d0dca765f92"
      },
      "execution_count": 130,
      "outputs": [
        {
          "output_type": "stream",
          "name": "stdout",
          "text": [
            "(1, 2, 3, 1, 2, 3)\n"
          ]
        }
      ]
    },
    {
      "cell_type": "code",
      "source": [
        "#Remember tuples are immutable, so if you wanted to scale each element in the tuple by two you would have to do this:\n",
        "new_tuple = tuple(elem * 2 for elem in my_tuple)\n",
        "new_tuple"
      ],
      "metadata": {
        "colab": {
          "base_uri": "https://localhost:8080/"
        },
        "id": "J_Gx0V4lupW3",
        "outputId": "57b35499-ee6d-4dae-aef4-8821c4c4d212"
      },
      "execution_count": 132,
      "outputs": [
        {
          "output_type": "execute_result",
          "data": {
            "text/plain": [
              "(2, 4, 6)"
            ]
          },
          "metadata": {},
          "execution_count": 132
        }
      ]
    },
    {
      "cell_type": "markdown",
      "source": [
        "Question Forty-Three\n",
        "\n",
        "\"Create a class named Student, which will inherit the properties and methods from the Person class:\n",
        "\n",
        "    class Student(Person):\n",
        "      pass\"\n",
        "\" importing in Python is not directly related to inheritance.\"\n",
        "\n",
        "\"The extend() method is used to add elements from an iterable (like another list, tuple, or string) to the end of an existing list.\"\n",
        "\n",
        "Therefore, the answer **B**"
      ],
      "metadata": {
        "id": "ArGH2WkCvHA2"
      }
    },
    {
      "cell_type": "markdown",
      "source": [
        "Question Forty-four, Run and see! :)"
      ],
      "metadata": {
        "id": "AGlOCoNcvlbl"
      }
    },
    {
      "cell_type": "code",
      "source": [
        "class People:\n",
        "  def __init__(self, name):\n",
        "    self.name = name\n",
        "\n",
        "  def print_name(self):\n",
        "    print(self.name)\n",
        "\n",
        "person1 = People(\"Sally\")\n",
        "person2 = People(\"Louise\")\n",
        "person1.print_name()"
      ],
      "metadata": {
        "colab": {
          "base_uri": "https://localhost:8080/"
        },
        "id": "KE_PN8hau_zo",
        "outputId": "b6967c5e-a5c9-46c9-a235-aa932c8f1a5e"
      },
      "execution_count": 133,
      "outputs": [
        {
          "output_type": "stream",
          "name": "stdout",
          "text": [
            "Sally\n"
          ]
        }
      ]
    },
    {
      "cell_type": "markdown",
      "source": [
        "why is Sally printed?\n",
        "\n",
        "The person1 instance name is instantiated to Sally!\n",
        "\n",
        "The person2 instance is instantiated to Louise! Therefore, when you call person1.print_name() you get Sally\n",
        "\n",
        "and person2.instance you get Louise"
      ],
      "metadata": {
        "id": "qThq5gI4v1un"
      }
    },
    {
      "cell_type": "code",
      "source": [
        "person2.print_name()"
      ],
      "metadata": {
        "colab": {
          "base_uri": "https://localhost:8080/"
        },
        "id": "PI1w19eivx4Q",
        "outputId": "941be35c-f839-4a84-a23b-8449d1d95ec2"
      },
      "execution_count": 134,
      "outputs": [
        {
          "output_type": "stream",
          "name": "stdout",
          "text": [
            "Louise\n"
          ]
        }
      ]
    },
    {
      "cell_type": "markdown",
      "source": [
        "If you wanted every instance variable to change you would have to something like this :)"
      ],
      "metadata": {
        "id": "CU-eHrUvzjz6"
      }
    },
    {
      "cell_type": "code",
      "source": [
        "class People:\n",
        "  global_name = \"\"\n",
        "  def __init__(self, name):\n",
        "    People.global_name = name\n",
        "\n",
        "  def print_name(self):\n",
        "    print(People.global_name)\n",
        "\n",
        "person1 = People(\"Sally\")\n",
        "person2 = People(\"Louise\")\n",
        "person1.print_name()\n",
        "person2.print_name()"
      ],
      "metadata": {
        "colab": {
          "base_uri": "https://localhost:8080/"
        },
        "id": "YRUd2c8KzeAx",
        "outputId": "76f124e1-e24f-4d6d-8e19-084aaba2a36b"
      },
      "execution_count": 139,
      "outputs": [
        {
          "output_type": "stream",
          "name": "stdout",
          "text": [
            "Louise\n",
            "Louise\n"
          ]
        }
      ]
    },
    {
      "cell_type": "markdown",
      "source": [
        "Question Forty-Five, run each to see! :) the correct way is B."
      ],
      "metadata": {
        "id": "E6dEuuE60HYH"
      }
    },
    {
      "cell_type": "code",
      "source": [
        "class Author:\n",
        "  def __init__(title, author):\n",
        "    print(author)\n",
        "    print(title)\n",
        "author = Author(\"Rising\", \"John\")"
      ],
      "metadata": {
        "colab": {
          "base_uri": "https://localhost:8080/",
          "height": 176
        },
        "id": "4QWsqb3m1GzN",
        "outputId": "4a04170e-6119-482b-ece0-7760985f5c8d"
      },
      "execution_count": 159,
      "outputs": [
        {
          "output_type": "error",
          "ename": "TypeError",
          "evalue": "Author.__init__() takes 2 positional arguments but 3 were given",
          "traceback": [
            "\u001b[0;31m---------------------------------------------------------------------------\u001b[0m",
            "\u001b[0;31mTypeError\u001b[0m                                 Traceback (most recent call last)",
            "\u001b[0;32m<ipython-input-159-18743c49250d>\u001b[0m in \u001b[0;36m<cell line: 5>\u001b[0;34m()\u001b[0m\n\u001b[1;32m      3\u001b[0m     \u001b[0mprint\u001b[0m\u001b[0;34m(\u001b[0m\u001b[0mauthor\u001b[0m\u001b[0;34m)\u001b[0m\u001b[0;34m\u001b[0m\u001b[0;34m\u001b[0m\u001b[0m\n\u001b[1;32m      4\u001b[0m     \u001b[0mprint\u001b[0m\u001b[0;34m(\u001b[0m\u001b[0mtitle\u001b[0m\u001b[0;34m)\u001b[0m\u001b[0;34m\u001b[0m\u001b[0;34m\u001b[0m\u001b[0m\n\u001b[0;32m----> 5\u001b[0;31m \u001b[0mauthor\u001b[0m \u001b[0;34m=\u001b[0m \u001b[0mAuthor\u001b[0m\u001b[0;34m(\u001b[0m\u001b[0;34m\"Rising\"\u001b[0m\u001b[0;34m,\u001b[0m \u001b[0;34m\"John\"\u001b[0m\u001b[0;34m)\u001b[0m\u001b[0;34m\u001b[0m\u001b[0;34m\u001b[0m\u001b[0m\n\u001b[0m",
            "\u001b[0;31mTypeError\u001b[0m: Author.__init__() takes 2 positional arguments but 3 were given"
          ]
        }
      ]
    },
    {
      "cell_type": "code",
      "source": [
        "class Author:\n",
        "  def __init__(self, title, author):\n",
        "    print(author)\n",
        "    print(title)\n",
        "author = Author(\"Rising\", \"John\")"
      ],
      "metadata": {
        "colab": {
          "base_uri": "https://localhost:8080/"
        },
        "id": "qbbbnN_Kz230",
        "outputId": "835bd7a6-db31-4781-c586-6ab0031cfbbe"
      },
      "execution_count": 162,
      "outputs": [
        {
          "output_type": "stream",
          "name": "stdout",
          "text": [
            "John\n",
            "Rising\n"
          ]
        }
      ]
    },
    {
      "cell_type": "code",
      "source": [
        "class Author:\n",
        "  def __init__():\n",
        "    pass\n",
        "#This cant work you need to have at least self!\n",
        "author = Author()"
      ],
      "metadata": {
        "colab": {
          "base_uri": "https://localhost:8080/",
          "height": 176
        },
        "id": "Ww3pXH_l0Ptv",
        "outputId": "7d2cbdfa-2fa3-47db-edfc-5959f63dde21"
      },
      "execution_count": 163,
      "outputs": [
        {
          "output_type": "error",
          "ename": "TypeError",
          "evalue": "Author.__init__() takes 0 positional arguments but 1 was given",
          "traceback": [
            "\u001b[0;31m---------------------------------------------------------------------------\u001b[0m",
            "\u001b[0;31mTypeError\u001b[0m                                 Traceback (most recent call last)",
            "\u001b[0;32m<ipython-input-163-33f0b578d093>\u001b[0m in \u001b[0;36m<cell line: 5>\u001b[0;34m()\u001b[0m\n\u001b[1;32m      3\u001b[0m     \u001b[0;32mpass\u001b[0m\u001b[0;34m\u001b[0m\u001b[0;34m\u001b[0m\u001b[0m\n\u001b[1;32m      4\u001b[0m \u001b[0;31m#This cant work you need to have at least self!\u001b[0m\u001b[0;34m\u001b[0m\u001b[0;34m\u001b[0m\u001b[0m\n\u001b[0;32m----> 5\u001b[0;31m \u001b[0mauthor\u001b[0m \u001b[0;34m=\u001b[0m \u001b[0mAuthor\u001b[0m\u001b[0;34m(\u001b[0m\u001b[0;34m)\u001b[0m\u001b[0;34m\u001b[0m\u001b[0;34m\u001b[0m\u001b[0m\n\u001b[0m",
            "\u001b[0;31mTypeError\u001b[0m: Author.__init__() takes 0 positional arguments but 1 was given"
          ]
        }
      ]
    },
    {
      "cell_type": "code",
      "source": [
        "class Author:\n",
        "  def __init__(self):\n",
        "    pass\n",
        "#Now that example works!\n",
        "author = Author()"
      ],
      "metadata": {
        "id": "Hvrhc7As0wFv"
      },
      "execution_count": 164,
      "outputs": []
    },
    {
      "cell_type": "code",
      "source": [
        "class Author:\n",
        "  __init__(self, title, author):\n",
        "    pass\n",
        "\n",
        "#You need def to call a method"
      ],
      "metadata": {
        "colab": {
          "base_uri": "https://localhost:8080/",
          "height": 106
        },
        "id": "3i46B0GD04Pb",
        "outputId": "f9500ce5-c69e-40c5-f94b-3f5436ba1bc2"
      },
      "execution_count": 165,
      "outputs": [
        {
          "output_type": "error",
          "ename": "SyntaxError",
          "evalue": "invalid syntax (<ipython-input-165-f4953c685cb2>, line 2)",
          "traceback": [
            "\u001b[0;36m  File \u001b[0;32m\"<ipython-input-165-f4953c685cb2>\"\u001b[0;36m, line \u001b[0;32m2\u001b[0m\n\u001b[0;31m    __init__(self, title, author):\u001b[0m\n\u001b[0m                                 ^\u001b[0m\n\u001b[0;31mSyntaxError\u001b[0m\u001b[0;31m:\u001b[0m invalid syntax\n"
          ]
        }
      ]
    },
    {
      "cell_type": "markdown",
      "source": [
        "Question Forty-Six, Run to see! :)\n",
        "\n",
        "Remember that even though Retriever inherits sound, it uses its local sound method! :)"
      ],
      "metadata": {
        "id": "rYoONudT1Qkg"
      }
    },
    {
      "cell_type": "code",
      "source": [
        "class Dog:\n",
        "  def sound(self):\n",
        "    return \"Ruff\"\n",
        "  def look(self):\n",
        "    return \"Looking\"\n",
        "class Retriever(Dog):\n",
        "  def sound(self):\n",
        "    return \"Woof\"\n",
        "\n",
        "buddy = Retriever()\n",
        "print(buddy.look())\n",
        "print(buddy.sound())"
      ],
      "metadata": {
        "colab": {
          "base_uri": "https://localhost:8080/"
        },
        "id": "zfsMO4Oc08E-",
        "outputId": "307c0cdc-ad7e-4d13-b6f5-dbebc351921b"
      },
      "execution_count": 169,
      "outputs": [
        {
          "output_type": "stream",
          "name": "stdout",
          "text": [
            "Looking\n",
            "Woof\n"
          ]
        }
      ]
    },
    {
      "cell_type": "markdown",
      "source": [
        "Question Forty-Seven\n",
        "\n",
        "Dictionaries are mutable!\n",
        "\n",
        "Lists are mutable!\n",
        "\n",
        "Sets are mutable!\n",
        "\n",
        "Strings are immutable!\n",
        "\n",
        "Tuples are immutable!"
      ],
      "metadata": {
        "id": "CgpbWuJr14SI"
      }
    },
    {
      "cell_type": "markdown",
      "source": [
        "Question Forty-Eight: My Solution :)"
      ],
      "metadata": {
        "id": "RdmJaj_72F2C"
      }
    },
    {
      "cell_type": "code",
      "source": [
        "file_contents = \"China;Beijing;1400000000\\nGermany;Berlin;83000000\\nIndia;New Delhi;1100000000\\nNetherlands;Amsterdam;17500000\\nUnited States;Washington;330000000\"\n",
        "output_file = open(file_contents, \"w\")\n",
        "\n",
        "with open(\"countries.txt\", \"w\") as f:\n",
        "    f.write(file_contents)\n",
        "#Check your local files, after running this cell it will be there! :)"
      ],
      "metadata": {
        "id": "8aRcoZIc1hPv"
      },
      "execution_count": 174,
      "outputs": []
    },
    {
      "cell_type": "code",
      "source": [
        "file_reader = open(\"countries.txt\", 'r')\n",
        "lines_from_file = file_reader.readlines()\n",
        "for elem in lines_from_file:\n",
        "  print(elem)"
      ],
      "metadata": {
        "colab": {
          "base_uri": "https://localhost:8080/"
        },
        "id": "t7gjTx0J2tGd",
        "outputId": "62f4e31b-e41d-4c57-894b-6a2317399ea8"
      },
      "execution_count": 179,
      "outputs": [
        {
          "output_type": "stream",
          "name": "stdout",
          "text": [
            "China;Beijing;1400000000\n",
            "\n",
            "Germany;Berlin;83000000\n",
            "\n",
            "India;New Delhi;1100000000\n",
            "\n",
            "Netherlands;Amsterdam;17500000\n",
            "\n",
            "United States;Washington;330000000\n"
          ]
        }
      ]
    },
    {
      "cell_type": "markdown",
      "source": [
        "As you can see we now have each line.\n",
        "\n",
        "Now, we can split each by the delimiter \";\" and add resepctive elements to a list."
      ],
      "metadata": {
        "id": "qadHaRd_3p2b"
      }
    },
    {
      "cell_type": "code",
      "source": [
        "country_list = []\n",
        "capital_list = []\n",
        "population_list = []\n",
        "for elem in lines_from_file:\n",
        "  splitted_list = elem.split(\";\")\n",
        "  country_list.append(splitted_list[0])\n",
        "  capital_list.append(splitted_list[1])\n",
        "  #Population has the \\n extra I added above, so I just call strip to get rid of that. :)\n",
        "  population_list.append(splitted_list[2].strip())\n",
        "\n",
        "#Now that each are in their respective lists, we can now add to a dictionary! :)\n",
        "\n",
        "capital_dict = {}\n",
        "population_dict = {}\n",
        "for country, capital, population in zip(country_list, capital_list, population_list):\n",
        "  capital_dict[country] = capital\n",
        "  population_dict[country] = population\n",
        "\n",
        "print(\"Capital Dictionary \", capital_dict)\n",
        "print(\"Population Dictionary\", population_dict)"
      ],
      "metadata": {
        "colab": {
          "base_uri": "https://localhost:8080/"
        },
        "id": "cHG8koZH3Uhl",
        "outputId": "302fe3c9-96f7-4ce9-abf6-ca8a05cdff48"
      },
      "execution_count": 182,
      "outputs": [
        {
          "output_type": "stream",
          "name": "stdout",
          "text": [
            "Capital Dictionary  {'China': 'Beijing', 'Germany': 'Berlin', 'India': 'New Delhi', 'Netherlands': 'Amsterdam', 'United States': 'Washington'}\n",
            "Population Dictionary {'China': '1400000000', 'Germany': '83000000', 'India': '1100000000', 'Netherlands': '17500000', 'United States': '330000000'}\n"
          ]
        }
      ]
    },
    {
      "cell_type": "markdown",
      "source": [
        "Question Forty-Nine"
      ],
      "metadata": {
        "id": "JfJkqb-45Ar2"
      }
    },
    {
      "cell_type": "code",
      "source": [
        "from typing import List\n",
        "def common_keys(dict1: dict, dict2: dict) -> List[str]:\n",
        "  #Get keys from dictionaries as sets:\n",
        "  set_one = dict1.keys()\n",
        "  set_two = dict2.keys()\n",
        "  return list(set_one & set_two)"
      ],
      "metadata": {
        "id": "Z82fKXad4itE"
      },
      "execution_count": 185,
      "outputs": []
    },
    {
      "cell_type": "code",
      "source": [
        "print(common_keys({1: 3, 4:5, 10: 4}, {1: 10, 4: 7, 11: 5}))"
      ],
      "metadata": {
        "colab": {
          "base_uri": "https://localhost:8080/"
        },
        "id": "v1JtPqgJ5iTb",
        "outputId": "a9f9f810-7530-480e-f7df-87e2dbae416c"
      },
      "execution_count": 186,
      "outputs": [
        {
          "output_type": "stream",
          "name": "stdout",
          "text": [
            "[1, 4]\n"
          ]
        }
      ]
    },
    {
      "cell_type": "code",
      "source": [],
      "metadata": {
        "id": "t6Mzdz3c5tu_"
      },
      "execution_count": null,
      "outputs": []
    }
  ]
}